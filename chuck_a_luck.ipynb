{
 "cells": [
  {
   "cell_type": "code",
   "execution_count": 1,
   "id": "1fb83778-3df4-4e3d-a840-31c87796126c",
   "metadata": {},
   "outputs": [],
   "source": [
    "from random import randint as randi\n",
    "from random import seed\n",
    "import numpy as np\n",
    "import pandas as pd\n",
    "import matplotlib.pyplot as plt\n",
    "%matplotlib inline"
   ]
  },
  {
   "cell_type": "code",
   "execution_count": 11,
   "id": "0bc870a5-da3c-418e-ae3b-87b04fe44ba4",
   "metadata": {},
   "outputs": [
    {
     "name": "stdout",
     "output_type": "stream",
     "text": [
      "Expected win amount per dollar: 0.500482\n"
     ]
    }
   ],
   "source": [
    "# iterations\n",
    "N = 1000000\n",
    "\n",
    "# total amount won\n",
    "won = 0\n",
    "\n",
    "# simulate\n",
    "for i in range(N + 1):\n",
    "    # sampled unifrom bet\n",
    "    bet = randi(1, 6)\n",
    "    \n",
    "    # three rolls of fair dice\n",
    "    x = randi(1, 6)\n",
    "    y = randi(1, 6)\n",
    "    z = randi(1, 6)\n",
    "    \n",
    "    ret = 0\n",
    "    if (bet == x): ret += 1\n",
    "    if (bet == y): ret += 1\n",
    "    if (bet == z): ret += 1\n",
    "    \n",
    "    won += ret\n",
    "    \n",
    "\n",
    "# print result\n",
    "print(\"Expected win amount per dollar:\", won/N)"
   ]
  },
  {
   "cell_type": "code",
   "execution_count": null,
   "id": "f6df41c6-8676-469e-97b8-a26087d7b9ee",
   "metadata": {},
   "outputs": [],
   "source": []
  }
 ],
 "metadata": {
  "kernelspec": {
   "display_name": "Python 3 (ipykernel)",
   "language": "python",
   "name": "python3"
  },
  "language_info": {
   "codemirror_mode": {
    "name": "ipython",
    "version": 3
   },
   "file_extension": ".py",
   "mimetype": "text/x-python",
   "name": "python",
   "nbconvert_exporter": "python",
   "pygments_lexer": "ipython3",
   "version": "3.9.13"
  }
 },
 "nbformat": 4,
 "nbformat_minor": 5
}
