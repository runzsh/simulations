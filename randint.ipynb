{
 "cells": [
  {
   "cell_type": "code",
   "execution_count": 5,
   "id": "848c7b65-c6a6-4d18-8844-e415f1b5613d",
   "metadata": {},
   "outputs": [],
   "source": [
    "from random import randint as randi\n",
    "from random import seed\n",
    "import numpy as np\n",
    "import pandas as pd\n",
    "import matplotlib.pyplot as plt\n",
    "%matplotlib inline"
   ]
  },
  {
   "cell_type": "markdown",
   "id": "00960e05-e9c8-4f17-93ab-bfa74f878449",
   "metadata": {},
   "source": [
    "### PMF"
   ]
  },
  {
   "cell_type": "code",
   "execution_count": 2,
   "id": "41613a36-f8a6-4af7-90e3-cccee1c77385",
   "metadata": {},
   "outputs": [],
   "source": [
    "kmax = 20\n",
    "X = np.arange(2, kmax + 1)\n",
    "Y = []\n",
    "seed(0)\n",
    "\n",
    "for k in range(2, kmax + 1):\n",
    "    N = 100000\n",
    "    yes = 0\n",
    "    \n",
    "    for i in range(N):\n",
    "        zero = False\n",
    "        one = False\n",
    "        cnt = 0\n",
    "        while (not (zero and one)):\n",
    "            i = randi(0, 1)\n",
    "            if (i == 0): zero = True\n",
    "            if (i == 1): one = True\n",
    "            cnt += 1\n",
    "            \n",
    "        if (cnt == k): yes += 1\n",
    "        \n",
    "    # print(\"For k:\", k, \" P[rolls = k] =\", yes/N)\n",
    "    Y.append(yes/N)"
   ]
  },
  {
   "cell_type": "code",
   "execution_count": 3,
   "id": "e89f1bd1-7843-4fc4-bc4f-590271ee8c9e",
   "metadata": {},
   "outputs": [],
   "source": [
    "Y = np.array(Y)"
   ]
  },
  {
   "cell_type": "code",
   "execution_count": 4,
   "id": "e671a206-c753-420b-89ef-8df9f4e64d53",
   "metadata": {},
   "outputs": [
    {
     "data": {
      "image/png": "[encoded data removed]",
      "text/plain": [
       "<Figure size 640x480 with 1 Axes>"
      ]
     },
     "metadata": {},
     "output_type": "display_data"
    }
   ],
   "source": [
    "plt.scatter(X, Y)\n",
    "plt.show()"
   ]
  },
  {
   "cell_type": "markdown",
   "id": "793ce447-3986-4586-aa64-a77cc23490fc",
   "metadata": {},
   "source": [
    "### Expectation"
   ]
  },
  {
   "cell_type": "code",
   "execution_count": 8,
   "id": "1ed91016-99ba-4a2b-bbef-9255f29474d3",
   "metadata": {},
   "outputs": [
    {
     "name": "stdout",
     "output_type": "stream",
     "text": [
      "Expected number of tosses: 3.00295\n"
     ]
    }
   ],
   "source": [
    "N = 100000\n",
    "\n",
    "net = 0\n",
    "for i in range(N + 1):\n",
    "    zero = False\n",
    "    one = False\n",
    "    while (zero == False or one == False):\n",
    "        x = randi(0, 1)\n",
    "        if (x == 0): zero = True\n",
    "        if (x == 1): one = True\n",
    "        net += 1\n",
    "\n",
    "print(\"Expected number of tosses:\", net/N)"
   ]
  }
 ],
 "metadata": {
  "kernelspec": {
   "display_name": "Python 3 (ipykernel)",
   "language": "python",
   "name": "python3"
  },
  "language_info": {
   "codemirror_mode": {
    "name": "ipython",
    "version": 3
   },
   "file_extension": ".py",
   "mimetype": "text/x-python",
   "name": "python",
   "nbconvert_exporter": "python",
   "pygments_lexer": "ipython3",
   "version": "3.9.13"
  }
 },
 "nbformat": 4,
 "nbformat_minor": 5
}
