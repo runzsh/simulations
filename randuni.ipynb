{
 "cells": [
  {
   "cell_type": "code",
   "execution_count": 49,
   "id": "848c7b65-c6a6-4d18-8844-e415f1b5613d",
   "metadata": {},
   "outputs": [],
   "source": [
    "from random import uniform as randu\n",
    "from random import seed\n",
    "import numpy as np\n",
    "import pandas as pd\n",
    "import matplotlib.pyplot as plt\n",
    "%matplotlib inline"
   ]
  },
  {
   "cell_type": "code",
   "execution_count": 50,
   "id": "41613a36-f8a6-4af7-90e3-cccee1c77385",
   "metadata": {},
   "outputs": [
    {
     "name": "stdout",
     "output_type": "stream",
     "text": [
      "P(2 < x < 7):  0.5           #Analytical\n",
      "P(2 < x < 7):  0.500598       #Simulated\n"
     ]
    }
   ],
   "source": [
    "joint = {}\n",
    "N = 1000000\n",
    "seed(42)\n",
    "l = 2; r = 7\n",
    "\n",
    "cnt = 0\n",
    "for i in range(N + 1):\n",
    "    x = randu(0, 10)\n",
    "    if (x >= 2 and x <= 7): cnt += 1\n",
    "\n",
    "print(\"P(2 < x < 7): \", (7 - 2)/10, \"          #Analytical\")\n",
    "print(\"P(2 < x < 7): \", cnt/N, \"      #Simulated\")"
   ]
  }
 ],
 "metadata": {
  "kernelspec": {
   "display_name": "Python 3 (ipykernel)",
   "language": "python",
   "name": "python3"
  },
  "language_info": {
   "codemirror_mode": {
    "name": "ipython",
    "version": 3
   },
   "file_extension": ".py",
   "mimetype": "text/x-python",
   "name": "python",
   "nbconvert_exporter": "python",
   "pygments_lexer": "ipython3",
   "version": "3.9.13"
  }
 },
 "nbformat": 4,
 "nbformat_minor": 5
}
