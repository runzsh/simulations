{
 "cells": [
  {
   "cell_type": "code",
   "execution_count": 1,
   "id": "d0003072-55e9-4a52-a23e-73a2fb986a66",
   "metadata": {},
   "outputs": [],
   "source": [
    "# A three digit code, where each digit can take 1 - 9\n",
    "# We have info that the code is ascending in order\n",
    "# Find the total possible lock combinations based on conditions"
   ]
  },
  {
   "cell_type": "code",
   "execution_count": 3,
   "id": "33e51965-d63b-4bde-9f28-8b3c519de396",
   "metadata": {},
   "outputs": [
    {
     "name": "stdout",
     "output_type": "stream",
     "text": [
      "84\n"
     ]
    }
   ],
   "source": [
    "count = 0\n",
    "\n",
    "for i in range(1, 10):\n",
    "    for j in range(1, 10):\n",
    "        for k in range(1, 10):\n",
    "            if (i < j) and (j < k): count += 1\n",
    "            \n",
    "print(count)"
   ]
  },
  {
   "cell_type": "code",
   "execution_count": null,
   "id": "508a9e1f-32cb-433f-9499-aa8e232e5a4a",
   "metadata": {},
   "outputs": [],
   "source": []
  }
 ],
 "metadata": {
  "kernelspec": {
   "display_name": "Python 3 (ipykernel)",
   "language": "python",
   "name": "python3"
  },
  "language_info": {
   "codemirror_mode": {
    "name": "ipython",
    "version": 3
   },
   "file_extension": ".py",
   "mimetype": "text/x-python",
   "name": "python",
   "nbconvert_exporter": "python",
   "pygments_lexer": "ipython3",
   "version": "3.9.13"
  }
 },
 "nbformat": 4,
 "nbformat_minor": 5
}
