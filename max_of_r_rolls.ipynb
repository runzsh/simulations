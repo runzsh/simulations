{
 "cells": [
  {
   "cell_type": "code",
   "execution_count": 5,
   "id": "c322c790-62b0-4c7b-9fca-b219f5c5e745",
   "metadata": {},
   "outputs": [],
   "source": [
    "from random import randint as randi\n",
    "from random import seed\n",
    "import numpy as np"
   ]
  },
  {
   "cell_type": "markdown",
   "id": "5ba40151-8fa5-4248-af0e-205e04a42ecf",
   "metadata": {},
   "source": [
    "### Vanilla"
   ]
  },
  {
   "cell_type": "code",
   "execution_count": 27,
   "id": "5108d07c-f1e7-432b-b695-fa2a54318e31",
   "metadata": {},
   "outputs": [
    {
     "name": "stdout",
     "output_type": "stream",
     "text": [
      "Expected winning amount: 5.560666\n"
     ]
    }
   ],
   "source": [
    "N = 1000000\n",
    "R = 6\n",
    "\n",
    "won = 0\n",
    "for i in range(N + 1):\n",
    "    r = R\n",
    "    ans = 0\n",
    "    while (r > 0):\n",
    "        x = randi(1, 6)\n",
    "        ans = max(ans, x)\n",
    "        r -= 1\n",
    "    \n",
    "    won += ans\n",
    "    \n",
    "print(\"Expected winning amount:\", won/N)"
   ]
  },
  {
   "cell_type": "code",
   "execution_count": 28,
   "id": "2968e0ed-61f4-4565-8d3a-4e2be4f040a2",
   "metadata": {},
   "outputs": [
    {
     "data": {
      "text/plain": [
       "5.560292352537722"
      ]
     },
     "execution_count": 28,
     "metadata": {},
     "output_type": "execute_result"
    }
   ],
   "source": [
    "E = 0\n",
    "for x in range(1, 7):\n",
    "    E += x*(x**R - (x - 1)**R)/6**R\n",
    "    \n",
    "E"
   ]
  },
  {
   "cell_type": "markdown",
   "id": "92b071b9-c688-4ee4-b0db-aa9d85440741",
   "metadata": {},
   "source": [
    "### 1$ for additional roll"
   ]
  },
  {
   "cell_type": "code",
   "execution_count": 22,
   "id": "1248e93e-a4c3-450c-9133-b3d61834fc79",
   "metadata": {},
   "outputs": [
    {
     "name": "stdout",
     "output_type": "stream",
     "text": [
      "Expected winning amount: 4.194479\n"
     ]
    }
   ],
   "source": [
    "# We have R rolls at max\n",
    "# After first roll each additional roll costs $1\n",
    "# We can choose max out of R and get paid that amount\n",
    "\n",
    "# This exp is upper bound to a harder problem which can't be simulated\n",
    "\n",
    "\n",
    "N = 1000000\n",
    "R = 3\n",
    "\n",
    "# seed(42)\n",
    "won = 0\n",
    "for i in range(N + 1):\n",
    "    r = R\n",
    "    ans = 0\n",
    "    while (r > 0):\n",
    "        # we assign cost to outcome \n",
    "        # before taking max of it\n",
    "        x = randi(1, 6) - (R - r)\n",
    "        ans = max(ans, x)\n",
    "        r -= 1\n",
    "    \n",
    "    won += ans\n",
    "    \n",
    "print(\"Expected winning amount:\", won/N)"
   ]
  }
 ],
 "metadata": {
  "kernelspec": {
   "display_name": "Python 3 (ipykernel)",
   "language": "python",
   "name": "python3"
  },
  "language_info": {
   "codemirror_mode": {
    "name": "ipython",
    "version": 3
   },
   "file_extension": ".py",
   "mimetype": "text/x-python",
   "name": "python",
   "nbconvert_exporter": "python",
   "pygments_lexer": "ipython3",
   "version": "3.9.13"
  }
 },
 "nbformat": 4,
 "nbformat_minor": 5
}
